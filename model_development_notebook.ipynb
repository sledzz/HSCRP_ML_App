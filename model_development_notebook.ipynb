{
 "cells": [
  {
   "cell_type": "code",
   "execution_count": 1,
   "metadata": {},
   "outputs": [],
   "source": [
    "from model_development import *"
   ]
  },
  {
   "cell_type": "code",
   "execution_count": 2,
   "metadata": {},
   "outputs": [],
   "source": [
    "y, x = preprocess(file_path = '/Users/ryan/Desktop/ResearchRepo/HSCRPmlResearch/preprocessedHSCRP.csv', \n",
    "                    x_cols= ['Gender','Age','BMI','Systolic','Diastolic','Alcohol','Sleep_hrs','SleepTimeCat','WakeUpCat'] , y_cols=['HSCRP_cat'])"
   ]
  },
  {
   "cell_type": "code",
   "execution_count": 3,
   "metadata": {},
   "outputs": [
    {
     "name": "stdout",
     "output_type": "stream",
     "text": [
      "             0         1         2         3         4         5         6  \\\n",
      "3734 -0.950772  1.491421  0.002914  0.793601  0.710945 -1.007462  0.183718   \n",
      "3289 -0.950772 -0.776953 -0.847296 -0.803997  0.010601 -1.007462  1.460292   \n",
      "1965  1.051777  0.495550  1.037336  0.146951 -0.204891  1.139948 -0.454570   \n",
      "3314  1.051777  0.772181  0.923975 -0.537734 -0.581999 -1.007462  2.736866   \n",
      "1130 -0.950772  0.495550 -0.237979  0.299105  1.249671 -0.577980  0.183718   \n",
      "...        ...       ...       ...       ...       ...       ...       ...   \n",
      "2144 -0.950772 -0.279017  0.909804 -0.195392 -0.151017  0.280984 -1.092857   \n",
      "941  -0.950772 -0.887605 -0.067937 -0.347540 -0.151017 -0.577980  0.183718   \n",
      "3440 -0.950772  1.270116 -0.563893  0.603407  0.118345  1.998912  0.183718   \n",
      "1995 -0.950772 -1.053584 -0.748105 -0.309506  1.034181 -0.577980  0.183718   \n",
      "3099 -0.950772 -1.606846 -1.385762 -0.651848 -0.043273 -0.148498  0.822005   \n",
      "\n",
      "             7         8  \n",
      "3734 -0.615726 -0.335687  \n",
      "3289  0.258950  4.405523  \n",
      "1965  0.258950 -0.335687  \n",
      "3314 -0.615726  4.405523  \n",
      "1130 -0.615726 -0.335687  \n",
      "...        ...       ...  \n",
      "2144 -1.490402 -1.013003  \n",
      "941  -0.615726 -0.335687  \n",
      "3440  0.258950  0.341629  \n",
      "1995 -0.615726 -0.335687  \n",
      "3099  0.258950  1.018944  \n",
      "\n",
      "[2736 rows x 9 columns]\n"
     ]
    },
    {
     "name": "stderr",
     "output_type": "stream",
     "text": [
      "/Users/ryan/opt/anaconda3/lib/python3.6/site-packages/sklearn/impute/_iterative.py:686: ConvergenceWarning: [IterativeImputer] Early stopping criterion not reached.\n",
      "  \" reached.\", ConvergenceWarning)\n"
     ]
    }
   ],
   "source": [
    "x_train, x_test, x_val , y_train, y_val, y_test = split_impute_scale_pipe(x=x, y=y, test_size=0.15)"
   ]
  },
  {
   "cell_type": "code",
   "execution_count": 4,
   "metadata": {},
   "outputs": [
    {
     "name": "stdout",
     "output_type": "stream",
     "text": [
      "Model: <tensorflow.python.keras.engine.sequential.Sequential object at 0x7fd216846978> \n",
      " Optimzer: <tensorflow.python.keras.optimizer_v2.adam.Adam object at 0x7fd1fdf5c208> \n",
      " Learning Rate: <tf.Variable 'learning_rate:0' shape=() dtype=float32, numpy=0.0005> \n",
      " Alpha: 0.65 \n",
      " Gamma: 2\n"
     ]
    }
   ],
   "source": [
    "models = instantiate_model()\n",
    "\n",
    "model_dictionary = {\"Decision Tree\":models.DecisionTree(), \n",
    "                    \"KNN\": models.KNN(), \n",
    "                    \"Naive Bayes\": models.NaiveBayes(),\n",
    "                    \"Random Forest\": models.RandomForest(class_weight='balanced'),\n",
    "                    \"Gradient Boost\": models.GradientBoost(),\n",
    "                    \"Logistic Regression\": models.LogisticRegression(penalty='none',solver='lbfgs', class_weight='balanced'),\n",
    "                    \"Lasso Logistic Regression\": models.LogisticRegression(C=1, penalty='l1', class_weight='balanced'), \n",
    "                    \"Ridge Logistic Regression\":models.LogisticRegression(C=1,penalty='l2',class_weight='balanced'),\n",
    "                    \"ElasticNet Logistic Regression\":models.LogisticRegression(C=1, penalty='elasticnet', solver='saga', class_weight='balanced', l1_ratio=0.5)\n",
    "                    }\n",
    "model_sel = model_selection()\n",
    "\n",
    "model_dict= model_sel.generate_focal_models(num_models=1, model_dict=model_dictionary)"
   ]
  },
  {
   "cell_type": "code",
   "execution_count": 5,
   "metadata": {},
   "outputs": [
    {
     "name": "stdout",
     "output_type": "stream",
     "text": [
      "Testing model: DecisionTreeClassifier(max_depth=10)\n",
      "Testing model: KNeighborsClassifier()\n",
      "Testing model: GaussianNB()\n"
     ]
    },
    {
     "name": "stderr",
     "output_type": "stream",
     "text": [
      "/Users/ryan/opt/anaconda3/lib/python3.6/site-packages/sklearn/neighbors/_classification.py:179: DataConversionWarning: A column-vector y was passed when a 1d array was expected. Please change the shape of y to (n_samples,), for example using ravel().\n",
      "  return self._fit(X, y)\n",
      "/Users/ryan/opt/anaconda3/lib/python3.6/site-packages/sklearn/utils/validation.py:63: DataConversionWarning: A column-vector y was passed when a 1d array was expected. Please change the shape of y to (n_samples, ), for example using ravel().\n",
      "  return f(*args, **kwargs)\n",
      "/Users/ryan/Desktop/ResearchRepo/HSCRPmlResearch/model_development.py:122: DataConversionWarning: A column-vector y was passed when a 1d array was expected. Please change the shape of y to (n_samples,), for example using ravel().\n",
      "  trained_model = model.fit(data_dict['x_train'],data_dict['y_train'])\n"
     ]
    },
    {
     "name": "stdout",
     "output_type": "stream",
     "text": [
      "Testing model: RandomForestClassifier(class_weight='balanced')\n"
     ]
    },
    {
     "name": "stderr",
     "output_type": "stream",
     "text": [
      "/Users/ryan/opt/anaconda3/lib/python3.6/site-packages/sklearn/utils/validation.py:63: DataConversionWarning: A column-vector y was passed when a 1d array was expected. Please change the shape of y to (n_samples, ), for example using ravel().\n",
      "  return f(*args, **kwargs)\n"
     ]
    },
    {
     "name": "stdout",
     "output_type": "stream",
     "text": [
      "Testing model: GradientBoostingClassifier()\n",
      "Testing model: LogisticRegression(C=0, class_weight='balanced', max_iter=1000, penalty='none')\n",
      "Testing model: LogisticRegression(C=1, class_weight='balanced', max_iter=1000, penalty='l1',\n",
      "                   solver='liblinear')\n",
      "Testing model: LogisticRegression(C=1, class_weight='balanced', max_iter=1000,\n",
      "                   solver='liblinear')\n",
      "Testing model: LogisticRegression(C=1, class_weight='balanced', l1_ratio=0.5, max_iter=1000,\n",
      "                   penalty='elasticnet', solver='saga')\n"
     ]
    },
    {
     "name": "stderr",
     "output_type": "stream",
     "text": [
      "/Users/ryan/opt/anaconda3/lib/python3.6/site-packages/sklearn/linear_model/_logistic.py:1323: UserWarning: Setting penalty='none' will ignore the C and l1_ratio parameters\n",
      "  \"Setting penalty='none' will ignore the C and l1_ratio \"\n",
      "/Users/ryan/opt/anaconda3/lib/python3.6/site-packages/sklearn/utils/validation.py:63: DataConversionWarning: A column-vector y was passed when a 1d array was expected. Please change the shape of y to (n_samples, ), for example using ravel().\n",
      "  return f(*args, **kwargs)\n",
      "/Users/ryan/opt/anaconda3/lib/python3.6/site-packages/sklearn/utils/validation.py:63: DataConversionWarning: A column-vector y was passed when a 1d array was expected. Please change the shape of y to (n_samples, ), for example using ravel().\n",
      "  return f(*args, **kwargs)\n",
      "/Users/ryan/opt/anaconda3/lib/python3.6/site-packages/sklearn/utils/validation.py:63: DataConversionWarning: A column-vector y was passed when a 1d array was expected. Please change the shape of y to (n_samples, ), for example using ravel().\n",
      "  return f(*args, **kwargs)\n",
      "/Users/ryan/opt/anaconda3/lib/python3.6/site-packages/sklearn/utils/validation.py:63: DataConversionWarning: A column-vector y was passed when a 1d array was expected. Please change the shape of y to (n_samples, ), for example using ravel().\n",
      "  return f(*args, **kwargs)\n"
     ]
    },
    {
     "name": "stdout",
     "output_type": "stream",
     "text": [
      "Model training for <tensorflow.python.keras.engine.sequential.Sequential object at 0x7fd9badbc518> was successful\n",
      "\n",
      "Testing model: <tensorflow.python.keras.engine.sequential.Sequential object at 0x7fd9badbc518>\n",
      "Testing model: DecisionTreeClassifier(max_depth=10)\n",
      "Testing model: KNeighborsClassifier()\n"
     ]
    },
    {
     "name": "stderr",
     "output_type": "stream",
     "text": [
      "/Users/ryan/opt/anaconda3/lib/python3.6/site-packages/sklearn/neighbors/_classification.py:179: DataConversionWarning: A column-vector y was passed when a 1d array was expected. Please change the shape of y to (n_samples,), for example using ravel().\n",
      "  return self._fit(X, y)\n",
      "/Users/ryan/opt/anaconda3/lib/python3.6/site-packages/sklearn/utils/validation.py:63: DataConversionWarning: A column-vector y was passed when a 1d array was expected. Please change the shape of y to (n_samples, ), for example using ravel().\n",
      "  return f(*args, **kwargs)\n",
      "/Users/ryan/Desktop/ResearchRepo/HSCRPmlResearch/model_development.py:122: DataConversionWarning: A column-vector y was passed when a 1d array was expected. Please change the shape of y to (n_samples,), for example using ravel().\n",
      "  trained_model = model.fit(data_dict['x_train'],data_dict['y_train'])\n"
     ]
    },
    {
     "name": "stdout",
     "output_type": "stream",
     "text": [
      "Testing model: GaussianNB()\n",
      "Testing model: RandomForestClassifier(class_weight='balanced')\n"
     ]
    },
    {
     "name": "stderr",
     "output_type": "stream",
     "text": [
      "/Users/ryan/opt/anaconda3/lib/python3.6/site-packages/sklearn/utils/validation.py:63: DataConversionWarning: A column-vector y was passed when a 1d array was expected. Please change the shape of y to (n_samples, ), for example using ravel().\n",
      "  return f(*args, **kwargs)\n"
     ]
    },
    {
     "name": "stdout",
     "output_type": "stream",
     "text": [
      "Testing model: GradientBoostingClassifier()\n",
      "Testing model: LogisticRegression(C=0, class_weight='balanced', max_iter=1000, penalty='none')\n",
      "Testing model: LogisticRegression(C=1, class_weight='balanced', max_iter=1000, penalty='l1',\n",
      "                   solver='liblinear')\n",
      "Testing model: LogisticRegression(C=1, class_weight='balanced', max_iter=1000,\n",
      "                   solver='liblinear')\n",
      "Testing model: LogisticRegression(C=1, class_weight='balanced', l1_ratio=0.5, max_iter=1000,\n",
      "                   penalty='elasticnet', solver='saga')\n"
     ]
    },
    {
     "name": "stderr",
     "output_type": "stream",
     "text": [
      "/Users/ryan/opt/anaconda3/lib/python3.6/site-packages/sklearn/linear_model/_logistic.py:1323: UserWarning: Setting penalty='none' will ignore the C and l1_ratio parameters\n",
      "  \"Setting penalty='none' will ignore the C and l1_ratio \"\n",
      "/Users/ryan/opt/anaconda3/lib/python3.6/site-packages/sklearn/utils/validation.py:63: DataConversionWarning: A column-vector y was passed when a 1d array was expected. Please change the shape of y to (n_samples, ), for example using ravel().\n",
      "  return f(*args, **kwargs)\n",
      "/Users/ryan/opt/anaconda3/lib/python3.6/site-packages/sklearn/utils/validation.py:63: DataConversionWarning: A column-vector y was passed when a 1d array was expected. Please change the shape of y to (n_samples, ), for example using ravel().\n",
      "  return f(*args, **kwargs)\n",
      "/Users/ryan/opt/anaconda3/lib/python3.6/site-packages/sklearn/utils/validation.py:63: DataConversionWarning: A column-vector y was passed when a 1d array was expected. Please change the shape of y to (n_samples, ), for example using ravel().\n",
      "  return f(*args, **kwargs)\n",
      "/Users/ryan/opt/anaconda3/lib/python3.6/site-packages/sklearn/utils/validation.py:63: DataConversionWarning: A column-vector y was passed when a 1d array was expected. Please change the shape of y to (n_samples, ), for example using ravel().\n",
      "  return f(*args, **kwargs)\n"
     ]
    },
    {
     "name": "stdout",
     "output_type": "stream",
     "text": [
      "Model training for <tensorflow.python.keras.engine.sequential.Sequential object at 0x7fd9badbc518> was successful\n",
      "\n",
      "Testing model: <tensorflow.python.keras.engine.sequential.Sequential object at 0x7fd9badbc518>\n",
      "Testing model: DecisionTreeClassifier(max_depth=10)\n",
      "Testing model: KNeighborsClassifier()\n"
     ]
    },
    {
     "name": "stderr",
     "output_type": "stream",
     "text": [
      "/Users/ryan/opt/anaconda3/lib/python3.6/site-packages/sklearn/neighbors/_classification.py:179: DataConversionWarning: A column-vector y was passed when a 1d array was expected. Please change the shape of y to (n_samples,), for example using ravel().\n",
      "  return self._fit(X, y)\n",
      "/Users/ryan/opt/anaconda3/lib/python3.6/site-packages/sklearn/utils/validation.py:63: DataConversionWarning: A column-vector y was passed when a 1d array was expected. Please change the shape of y to (n_samples, ), for example using ravel().\n",
      "  return f(*args, **kwargs)\n",
      "/Users/ryan/Desktop/ResearchRepo/HSCRPmlResearch/model_development.py:122: DataConversionWarning: A column-vector y was passed when a 1d array was expected. Please change the shape of y to (n_samples,), for example using ravel().\n",
      "  trained_model = model.fit(data_dict['x_train'],data_dict['y_train'])\n"
     ]
    },
    {
     "name": "stdout",
     "output_type": "stream",
     "text": [
      "Testing model: GaussianNB()\n",
      "Testing model: RandomForestClassifier(class_weight='balanced')\n"
     ]
    },
    {
     "name": "stderr",
     "output_type": "stream",
     "text": [
      "/Users/ryan/opt/anaconda3/lib/python3.6/site-packages/sklearn/utils/validation.py:63: DataConversionWarning: A column-vector y was passed when a 1d array was expected. Please change the shape of y to (n_samples, ), for example using ravel().\n",
      "  return f(*args, **kwargs)\n"
     ]
    },
    {
     "name": "stdout",
     "output_type": "stream",
     "text": [
      "Testing model: GradientBoostingClassifier()\n",
      "Testing model: LogisticRegression(C=0, class_weight='balanced', max_iter=1000, penalty='none')\n",
      "Testing model: LogisticRegression(C=1, class_weight='balanced', max_iter=1000, penalty='l1',\n",
      "                   solver='liblinear')\n",
      "Testing model: LogisticRegression(C=1, class_weight='balanced', max_iter=1000,\n",
      "                   solver='liblinear')\n",
      "Testing model: LogisticRegression(C=1, class_weight='balanced', l1_ratio=0.5, max_iter=1000,\n",
      "                   penalty='elasticnet', solver='saga')\n"
     ]
    },
    {
     "name": "stderr",
     "output_type": "stream",
     "text": [
      "/Users/ryan/opt/anaconda3/lib/python3.6/site-packages/sklearn/linear_model/_logistic.py:1323: UserWarning: Setting penalty='none' will ignore the C and l1_ratio parameters\n",
      "  \"Setting penalty='none' will ignore the C and l1_ratio \"\n",
      "/Users/ryan/opt/anaconda3/lib/python3.6/site-packages/sklearn/utils/validation.py:63: DataConversionWarning: A column-vector y was passed when a 1d array was expected. Please change the shape of y to (n_samples, ), for example using ravel().\n",
      "  return f(*args, **kwargs)\n",
      "/Users/ryan/opt/anaconda3/lib/python3.6/site-packages/sklearn/utils/validation.py:63: DataConversionWarning: A column-vector y was passed when a 1d array was expected. Please change the shape of y to (n_samples, ), for example using ravel().\n",
      "  return f(*args, **kwargs)\n",
      "/Users/ryan/opt/anaconda3/lib/python3.6/site-packages/sklearn/utils/validation.py:63: DataConversionWarning: A column-vector y was passed when a 1d array was expected. Please change the shape of y to (n_samples, ), for example using ravel().\n",
      "  return f(*args, **kwargs)\n",
      "/Users/ryan/opt/anaconda3/lib/python3.6/site-packages/sklearn/utils/validation.py:63: DataConversionWarning: A column-vector y was passed when a 1d array was expected. Please change the shape of y to (n_samples, ), for example using ravel().\n",
      "  return f(*args, **kwargs)\n"
     ]
    },
    {
     "name": "stdout",
     "output_type": "stream",
     "text": [
      "Model training for <tensorflow.python.keras.engine.sequential.Sequential object at 0x7fd9badbc518> was successful\n",
      "\n",
      "Testing model: <tensorflow.python.keras.engine.sequential.Sequential object at 0x7fd9badbc518>\n",
      "Testing model: DecisionTreeClassifier(max_depth=10)\n",
      "Testing model: KNeighborsClassifier()\n",
      "Testing model: GaussianNB()\n"
     ]
    },
    {
     "name": "stderr",
     "output_type": "stream",
     "text": [
      "/Users/ryan/opt/anaconda3/lib/python3.6/site-packages/sklearn/neighbors/_classification.py:179: DataConversionWarning: A column-vector y was passed when a 1d array was expected. Please change the shape of y to (n_samples,), for example using ravel().\n",
      "  return self._fit(X, y)\n",
      "/Users/ryan/opt/anaconda3/lib/python3.6/site-packages/sklearn/utils/validation.py:63: DataConversionWarning: A column-vector y was passed when a 1d array was expected. Please change the shape of y to (n_samples, ), for example using ravel().\n",
      "  return f(*args, **kwargs)\n",
      "/Users/ryan/Desktop/ResearchRepo/HSCRPmlResearch/model_development.py:122: DataConversionWarning: A column-vector y was passed when a 1d array was expected. Please change the shape of y to (n_samples,), for example using ravel().\n",
      "  trained_model = model.fit(data_dict['x_train'],data_dict['y_train'])\n"
     ]
    },
    {
     "name": "stdout",
     "output_type": "stream",
     "text": [
      "Testing model: RandomForestClassifier(class_weight='balanced')\n"
     ]
    },
    {
     "name": "stderr",
     "output_type": "stream",
     "text": [
      "/Users/ryan/opt/anaconda3/lib/python3.6/site-packages/sklearn/utils/validation.py:63: DataConversionWarning: A column-vector y was passed when a 1d array was expected. Please change the shape of y to (n_samples, ), for example using ravel().\n",
      "  return f(*args, **kwargs)\n"
     ]
    },
    {
     "name": "stdout",
     "output_type": "stream",
     "text": [
      "Testing model: GradientBoostingClassifier()\n",
      "Testing model: LogisticRegression(C=0, class_weight='balanced', max_iter=1000, penalty='none')\n",
      "Testing model: LogisticRegression(C=1, class_weight='balanced', max_iter=1000, penalty='l1',\n",
      "                   solver='liblinear')\n",
      "Testing model: LogisticRegression(C=1, class_weight='balanced', max_iter=1000,\n",
      "                   solver='liblinear')\n",
      "Testing model: LogisticRegression(C=1, class_weight='balanced', l1_ratio=0.5, max_iter=1000,\n",
      "                   penalty='elasticnet', solver='saga')\n"
     ]
    },
    {
     "name": "stderr",
     "output_type": "stream",
     "text": [
      "/Users/ryan/opt/anaconda3/lib/python3.6/site-packages/sklearn/linear_model/_logistic.py:1323: UserWarning: Setting penalty='none' will ignore the C and l1_ratio parameters\n",
      "  \"Setting penalty='none' will ignore the C and l1_ratio \"\n",
      "/Users/ryan/opt/anaconda3/lib/python3.6/site-packages/sklearn/utils/validation.py:63: DataConversionWarning: A column-vector y was passed when a 1d array was expected. Please change the shape of y to (n_samples, ), for example using ravel().\n",
      "  return f(*args, **kwargs)\n",
      "/Users/ryan/opt/anaconda3/lib/python3.6/site-packages/sklearn/utils/validation.py:63: DataConversionWarning: A column-vector y was passed when a 1d array was expected. Please change the shape of y to (n_samples, ), for example using ravel().\n",
      "  return f(*args, **kwargs)\n",
      "/Users/ryan/opt/anaconda3/lib/python3.6/site-packages/sklearn/utils/validation.py:63: DataConversionWarning: A column-vector y was passed when a 1d array was expected. Please change the shape of y to (n_samples, ), for example using ravel().\n",
      "  return f(*args, **kwargs)\n",
      "/Users/ryan/opt/anaconda3/lib/python3.6/site-packages/sklearn/utils/validation.py:63: DataConversionWarning: A column-vector y was passed when a 1d array was expected. Please change the shape of y to (n_samples, ), for example using ravel().\n",
      "  return f(*args, **kwargs)\n"
     ]
    },
    {
     "name": "stdout",
     "output_type": "stream",
     "text": [
      "Model training for <tensorflow.python.keras.engine.sequential.Sequential object at 0x7fd9badbc518> was successful\n",
      "\n",
      "Testing model: <tensorflow.python.keras.engine.sequential.Sequential object at 0x7fd9badbc518>\n",
      "Testing model: DecisionTreeClassifier(max_depth=10)\n",
      "Testing model: KNeighborsClassifier()\n",
      "Testing model: GaussianNB()\n"
     ]
    },
    {
     "name": "stderr",
     "output_type": "stream",
     "text": [
      "/Users/ryan/opt/anaconda3/lib/python3.6/site-packages/sklearn/neighbors/_classification.py:179: DataConversionWarning: A column-vector y was passed when a 1d array was expected. Please change the shape of y to (n_samples,), for example using ravel().\n",
      "  return self._fit(X, y)\n",
      "/Users/ryan/opt/anaconda3/lib/python3.6/site-packages/sklearn/utils/validation.py:63: DataConversionWarning: A column-vector y was passed when a 1d array was expected. Please change the shape of y to (n_samples, ), for example using ravel().\n",
      "  return f(*args, **kwargs)\n",
      "/Users/ryan/Desktop/ResearchRepo/HSCRPmlResearch/model_development.py:122: DataConversionWarning: A column-vector y was passed when a 1d array was expected. Please change the shape of y to (n_samples,), for example using ravel().\n",
      "  trained_model = model.fit(data_dict['x_train'],data_dict['y_train'])\n"
     ]
    },
    {
     "name": "stdout",
     "output_type": "stream",
     "text": [
      "Testing model: RandomForestClassifier(class_weight='balanced')\n"
     ]
    },
    {
     "name": "stderr",
     "output_type": "stream",
     "text": [
      "/Users/ryan/opt/anaconda3/lib/python3.6/site-packages/sklearn/utils/validation.py:63: DataConversionWarning: A column-vector y was passed when a 1d array was expected. Please change the shape of y to (n_samples, ), for example using ravel().\n",
      "  return f(*args, **kwargs)\n"
     ]
    },
    {
     "name": "stdout",
     "output_type": "stream",
     "text": [
      "Testing model: GradientBoostingClassifier()\n",
      "Testing model: LogisticRegression(C=0, class_weight='balanced', max_iter=1000, penalty='none')\n",
      "Testing model: LogisticRegression(C=1, class_weight='balanced', max_iter=1000, penalty='l1',\n",
      "                   solver='liblinear')\n",
      "Testing model: LogisticRegression(C=1, class_weight='balanced', max_iter=1000,\n",
      "                   solver='liblinear')\n",
      "Testing model: LogisticRegression(C=1, class_weight='balanced', l1_ratio=0.5, max_iter=1000,\n",
      "                   penalty='elasticnet', solver='saga')\n"
     ]
    },
    {
     "name": "stderr",
     "output_type": "stream",
     "text": [
      "/Users/ryan/opt/anaconda3/lib/python3.6/site-packages/sklearn/linear_model/_logistic.py:1323: UserWarning: Setting penalty='none' will ignore the C and l1_ratio parameters\n",
      "  \"Setting penalty='none' will ignore the C and l1_ratio \"\n",
      "/Users/ryan/opt/anaconda3/lib/python3.6/site-packages/sklearn/utils/validation.py:63: DataConversionWarning: A column-vector y was passed when a 1d array was expected. Please change the shape of y to (n_samples, ), for example using ravel().\n",
      "  return f(*args, **kwargs)\n",
      "/Users/ryan/opt/anaconda3/lib/python3.6/site-packages/sklearn/utils/validation.py:63: DataConversionWarning: A column-vector y was passed when a 1d array was expected. Please change the shape of y to (n_samples, ), for example using ravel().\n",
      "  return f(*args, **kwargs)\n",
      "/Users/ryan/opt/anaconda3/lib/python3.6/site-packages/sklearn/utils/validation.py:63: DataConversionWarning: A column-vector y was passed when a 1d array was expected. Please change the shape of y to (n_samples, ), for example using ravel().\n",
      "  return f(*args, **kwargs)\n",
      "/Users/ryan/opt/anaconda3/lib/python3.6/site-packages/sklearn/utils/validation.py:63: DataConversionWarning: A column-vector y was passed when a 1d array was expected. Please change the shape of y to (n_samples, ), for example using ravel().\n",
      "  return f(*args, **kwargs)\n"
     ]
    },
    {
     "name": "stdout",
     "output_type": "stream",
     "text": [
      "Model training for <tensorflow.python.keras.engine.sequential.Sequential object at 0x7fd9badbc518> was successful\n",
      "\n",
      "Testing model: <tensorflow.python.keras.engine.sequential.Sequential object at 0x7fd9badbc518>\n",
      "Testing model: DecisionTreeClassifier(max_depth=10)\n",
      "Testing model: KNeighborsClassifier()\n",
      "Testing model: GaussianNB()\n"
     ]
    },
    {
     "name": "stderr",
     "output_type": "stream",
     "text": [
      "/Users/ryan/opt/anaconda3/lib/python3.6/site-packages/sklearn/neighbors/_classification.py:179: DataConversionWarning: A column-vector y was passed when a 1d array was expected. Please change the shape of y to (n_samples,), for example using ravel().\n",
      "  return self._fit(X, y)\n",
      "/Users/ryan/opt/anaconda3/lib/python3.6/site-packages/sklearn/utils/validation.py:63: DataConversionWarning: A column-vector y was passed when a 1d array was expected. Please change the shape of y to (n_samples, ), for example using ravel().\n",
      "  return f(*args, **kwargs)\n",
      "/Users/ryan/Desktop/ResearchRepo/HSCRPmlResearch/model_development.py:122: DataConversionWarning: A column-vector y was passed when a 1d array was expected. Please change the shape of y to (n_samples,), for example using ravel().\n",
      "  trained_model = model.fit(data_dict['x_train'],data_dict['y_train'])\n"
     ]
    },
    {
     "name": "stdout",
     "output_type": "stream",
     "text": [
      "Testing model: RandomForestClassifier(class_weight='balanced')\n"
     ]
    },
    {
     "name": "stderr",
     "output_type": "stream",
     "text": [
      "/Users/ryan/opt/anaconda3/lib/python3.6/site-packages/sklearn/utils/validation.py:63: DataConversionWarning: A column-vector y was passed when a 1d array was expected. Please change the shape of y to (n_samples, ), for example using ravel().\n",
      "  return f(*args, **kwargs)\n"
     ]
    },
    {
     "name": "stdout",
     "output_type": "stream",
     "text": [
      "Testing model: GradientBoostingClassifier()\n",
      "Testing model: LogisticRegression(C=0, class_weight='balanced', max_iter=1000, penalty='none')\n",
      "Testing model: LogisticRegression(C=1, class_weight='balanced', max_iter=1000, penalty='l1',\n",
      "                   solver='liblinear')\n",
      "Testing model: LogisticRegression(C=1, class_weight='balanced', max_iter=1000,\n",
      "                   solver='liblinear')\n",
      "Testing model: LogisticRegression(C=1, class_weight='balanced', l1_ratio=0.5, max_iter=1000,\n",
      "                   penalty='elasticnet', solver='saga')\n"
     ]
    },
    {
     "name": "stderr",
     "output_type": "stream",
     "text": [
      "/Users/ryan/opt/anaconda3/lib/python3.6/site-packages/sklearn/linear_model/_logistic.py:1323: UserWarning: Setting penalty='none' will ignore the C and l1_ratio parameters\n",
      "  \"Setting penalty='none' will ignore the C and l1_ratio \"\n",
      "/Users/ryan/opt/anaconda3/lib/python3.6/site-packages/sklearn/utils/validation.py:63: DataConversionWarning: A column-vector y was passed when a 1d array was expected. Please change the shape of y to (n_samples, ), for example using ravel().\n",
      "  return f(*args, **kwargs)\n",
      "/Users/ryan/opt/anaconda3/lib/python3.6/site-packages/sklearn/utils/validation.py:63: DataConversionWarning: A column-vector y was passed when a 1d array was expected. Please change the shape of y to (n_samples, ), for example using ravel().\n",
      "  return f(*args, **kwargs)\n",
      "/Users/ryan/opt/anaconda3/lib/python3.6/site-packages/sklearn/utils/validation.py:63: DataConversionWarning: A column-vector y was passed when a 1d array was expected. Please change the shape of y to (n_samples, ), for example using ravel().\n",
      "  return f(*args, **kwargs)\n",
      "/Users/ryan/opt/anaconda3/lib/python3.6/site-packages/sklearn/utils/validation.py:63: DataConversionWarning: A column-vector y was passed when a 1d array was expected. Please change the shape of y to (n_samples, ), for example using ravel().\n",
      "  return f(*args, **kwargs)\n"
     ]
    },
    {
     "name": "stdout",
     "output_type": "stream",
     "text": [
      "Model training for <tensorflow.python.keras.engine.sequential.Sequential object at 0x7fd9badbc518> was successful\n",
      "\n",
      "Testing model: <tensorflow.python.keras.engine.sequential.Sequential object at 0x7fd9badbc518>\n",
      "Testing model: DecisionTreeClassifier(max_depth=10)\n",
      "Testing model: KNeighborsClassifier()\n",
      "Testing model: GaussianNB()\n"
     ]
    },
    {
     "name": "stderr",
     "output_type": "stream",
     "text": [
      "/Users/ryan/opt/anaconda3/lib/python3.6/site-packages/sklearn/neighbors/_classification.py:179: DataConversionWarning: A column-vector y was passed when a 1d array was expected. Please change the shape of y to (n_samples,), for example using ravel().\n",
      "  return self._fit(X, y)\n",
      "/Users/ryan/opt/anaconda3/lib/python3.6/site-packages/sklearn/utils/validation.py:63: DataConversionWarning: A column-vector y was passed when a 1d array was expected. Please change the shape of y to (n_samples, ), for example using ravel().\n",
      "  return f(*args, **kwargs)\n",
      "/Users/ryan/Desktop/ResearchRepo/HSCRPmlResearch/model_development.py:122: DataConversionWarning: A column-vector y was passed when a 1d array was expected. Please change the shape of y to (n_samples,), for example using ravel().\n",
      "  trained_model = model.fit(data_dict['x_train'],data_dict['y_train'])\n"
     ]
    },
    {
     "name": "stdout",
     "output_type": "stream",
     "text": [
      "Testing model: RandomForestClassifier(class_weight='balanced')\n"
     ]
    },
    {
     "name": "stderr",
     "output_type": "stream",
     "text": [
      "/Users/ryan/opt/anaconda3/lib/python3.6/site-packages/sklearn/utils/validation.py:63: DataConversionWarning: A column-vector y was passed when a 1d array was expected. Please change the shape of y to (n_samples, ), for example using ravel().\n",
      "  return f(*args, **kwargs)\n"
     ]
    },
    {
     "name": "stdout",
     "output_type": "stream",
     "text": [
      "Testing model: GradientBoostingClassifier()\n",
      "Testing model: LogisticRegression(C=0, class_weight='balanced', max_iter=1000, penalty='none')\n",
      "Testing model: LogisticRegression(C=1, class_weight='balanced', max_iter=1000, penalty='l1',\n",
      "                   solver='liblinear')\n",
      "Testing model: LogisticRegression(C=1, class_weight='balanced', max_iter=1000,\n",
      "                   solver='liblinear')\n",
      "Testing model: LogisticRegression(C=1, class_weight='balanced', l1_ratio=0.5, max_iter=1000,\n",
      "                   penalty='elasticnet', solver='saga')\n"
     ]
    },
    {
     "name": "stderr",
     "output_type": "stream",
     "text": [
      "/Users/ryan/opt/anaconda3/lib/python3.6/site-packages/sklearn/linear_model/_logistic.py:1323: UserWarning: Setting penalty='none' will ignore the C and l1_ratio parameters\n",
      "  \"Setting penalty='none' will ignore the C and l1_ratio \"\n",
      "/Users/ryan/opt/anaconda3/lib/python3.6/site-packages/sklearn/utils/validation.py:63: DataConversionWarning: A column-vector y was passed when a 1d array was expected. Please change the shape of y to (n_samples, ), for example using ravel().\n",
      "  return f(*args, **kwargs)\n",
      "/Users/ryan/opt/anaconda3/lib/python3.6/site-packages/sklearn/utils/validation.py:63: DataConversionWarning: A column-vector y was passed when a 1d array was expected. Please change the shape of y to (n_samples, ), for example using ravel().\n",
      "  return f(*args, **kwargs)\n",
      "/Users/ryan/opt/anaconda3/lib/python3.6/site-packages/sklearn/utils/validation.py:63: DataConversionWarning: A column-vector y was passed when a 1d array was expected. Please change the shape of y to (n_samples, ), for example using ravel().\n",
      "  return f(*args, **kwargs)\n",
      "/Users/ryan/opt/anaconda3/lib/python3.6/site-packages/sklearn/utils/validation.py:63: DataConversionWarning: A column-vector y was passed when a 1d array was expected. Please change the shape of y to (n_samples, ), for example using ravel().\n",
      "  return f(*args, **kwargs)\n"
     ]
    },
    {
     "name": "stdout",
     "output_type": "stream",
     "text": [
      "Model training for <tensorflow.python.keras.engine.sequential.Sequential object at 0x7fd9badbc518> was successful\n",
      "\n",
      "Testing model: <tensorflow.python.keras.engine.sequential.Sequential object at 0x7fd9badbc518>\n",
      "Testing model: DecisionTreeClassifier(max_depth=10)\n",
      "Testing model: KNeighborsClassifier()\n",
      "Testing model: GaussianNB()\n"
     ]
    },
    {
     "name": "stderr",
     "output_type": "stream",
     "text": [
      "/Users/ryan/opt/anaconda3/lib/python3.6/site-packages/sklearn/neighbors/_classification.py:179: DataConversionWarning: A column-vector y was passed when a 1d array was expected. Please change the shape of y to (n_samples,), for example using ravel().\n",
      "  return self._fit(X, y)\n",
      "/Users/ryan/opt/anaconda3/lib/python3.6/site-packages/sklearn/utils/validation.py:63: DataConversionWarning: A column-vector y was passed when a 1d array was expected. Please change the shape of y to (n_samples, ), for example using ravel().\n",
      "  return f(*args, **kwargs)\n",
      "/Users/ryan/Desktop/ResearchRepo/HSCRPmlResearch/model_development.py:122: DataConversionWarning: A column-vector y was passed when a 1d array was expected. Please change the shape of y to (n_samples,), for example using ravel().\n",
      "  trained_model = model.fit(data_dict['x_train'],data_dict['y_train'])\n"
     ]
    },
    {
     "name": "stdout",
     "output_type": "stream",
     "text": [
      "Testing model: RandomForestClassifier(class_weight='balanced')\n"
     ]
    },
    {
     "name": "stderr",
     "output_type": "stream",
     "text": [
      "/Users/ryan/opt/anaconda3/lib/python3.6/site-packages/sklearn/utils/validation.py:63: DataConversionWarning: A column-vector y was passed when a 1d array was expected. Please change the shape of y to (n_samples, ), for example using ravel().\n",
      "  return f(*args, **kwargs)\n"
     ]
    },
    {
     "name": "stdout",
     "output_type": "stream",
     "text": [
      "Testing model: GradientBoostingClassifier()\n",
      "Testing model: LogisticRegression(C=0, class_weight='balanced', max_iter=1000, penalty='none')\n",
      "Testing model: LogisticRegression(C=1, class_weight='balanced', max_iter=1000, penalty='l1',\n",
      "                   solver='liblinear')\n",
      "Testing model: LogisticRegression(C=1, class_weight='balanced', max_iter=1000,\n",
      "                   solver='liblinear')\n",
      "Testing model: LogisticRegression(C=1, class_weight='balanced', l1_ratio=0.5, max_iter=1000,\n",
      "                   penalty='elasticnet', solver='saga')\n"
     ]
    },
    {
     "name": "stderr",
     "output_type": "stream",
     "text": [
      "/Users/ryan/opt/anaconda3/lib/python3.6/site-packages/sklearn/linear_model/_logistic.py:1323: UserWarning: Setting penalty='none' will ignore the C and l1_ratio parameters\n",
      "  \"Setting penalty='none' will ignore the C and l1_ratio \"\n",
      "/Users/ryan/opt/anaconda3/lib/python3.6/site-packages/sklearn/utils/validation.py:63: DataConversionWarning: A column-vector y was passed when a 1d array was expected. Please change the shape of y to (n_samples, ), for example using ravel().\n",
      "  return f(*args, **kwargs)\n",
      "/Users/ryan/opt/anaconda3/lib/python3.6/site-packages/sklearn/utils/validation.py:63: DataConversionWarning: A column-vector y was passed when a 1d array was expected. Please change the shape of y to (n_samples, ), for example using ravel().\n",
      "  return f(*args, **kwargs)\n",
      "/Users/ryan/opt/anaconda3/lib/python3.6/site-packages/sklearn/utils/validation.py:63: DataConversionWarning: A column-vector y was passed when a 1d array was expected. Please change the shape of y to (n_samples, ), for example using ravel().\n",
      "  return f(*args, **kwargs)\n",
      "/Users/ryan/opt/anaconda3/lib/python3.6/site-packages/sklearn/utils/validation.py:63: DataConversionWarning: A column-vector y was passed when a 1d array was expected. Please change the shape of y to (n_samples, ), for example using ravel().\n",
      "  return f(*args, **kwargs)\n"
     ]
    },
    {
     "name": "stdout",
     "output_type": "stream",
     "text": [
      "Model training for <tensorflow.python.keras.engine.sequential.Sequential object at 0x7fd9badbc518> was successful\n",
      "\n",
      "Testing model: <tensorflow.python.keras.engine.sequential.Sequential object at 0x7fd9badbc518>\n"
     ]
    }
   ],
   "source": [
    "avg_df, std_df = model_sel.model_selection_pipeline(x_train, y_train, model_dict, num_splits=8)"
   ]
  },
  {
   "cell_type": "code",
   "execution_count": 7,
   "metadata": {},
   "outputs": [
    {
     "data": {
      "text/html": [
       "<div>\n",
       "<style scoped>\n",
       "    .dataframe tbody tr th:only-of-type {\n",
       "        vertical-align: middle;\n",
       "    }\n",
       "\n",
       "    .dataframe tbody tr th {\n",
       "        vertical-align: top;\n",
       "    }\n",
       "\n",
       "    .dataframe thead th {\n",
       "        text-align: right;\n",
       "    }\n",
       "</style>\n",
       "<table border=\"1\" class=\"dataframe\">\n",
       "  <thead>\n",
       "    <tr style=\"text-align: right;\">\n",
       "      <th></th>\n",
       "      <th>PR AUC</th>\n",
       "      <th>Brier Score</th>\n",
       "      <th>F1 Score</th>\n",
       "      <th>Recall</th>\n",
       "      <th>Precision</th>\n",
       "    </tr>\n",
       "    <tr>\n",
       "      <th>Model</th>\n",
       "      <th></th>\n",
       "      <th></th>\n",
       "      <th></th>\n",
       "      <th></th>\n",
       "      <th></th>\n",
       "    </tr>\n",
       "  </thead>\n",
       "  <tbody>\n",
       "    <tr>\n",
       "      <th>Decision Tree</th>\n",
       "      <td>0.564767</td>\n",
       "      <td>0.272182</td>\n",
       "      <td>0.526757</td>\n",
       "      <td>0.496154</td>\n",
       "      <td>0.562978</td>\n",
       "    </tr>\n",
       "    <tr>\n",
       "      <th>ElasticNet Logistic Regression</th>\n",
       "      <td>0.652682</td>\n",
       "      <td>0.202568</td>\n",
       "      <td>0.612075</td>\n",
       "      <td>0.642308</td>\n",
       "      <td>0.586144</td>\n",
       "    </tr>\n",
       "    <tr>\n",
       "      <th>Focal Loss Logistic Regression 0</th>\n",
       "      <td>0.653441</td>\n",
       "      <td>0.220872</td>\n",
       "      <td>0.604507</td>\n",
       "      <td>0.609615</td>\n",
       "      <td>0.602261</td>\n",
       "    </tr>\n",
       "    <tr>\n",
       "      <th>Gradient Boost</th>\n",
       "      <td>0.635454</td>\n",
       "      <td>0.197380</td>\n",
       "      <td>0.548274</td>\n",
       "      <td>0.472115</td>\n",
       "      <td>0.657445</td>\n",
       "    </tr>\n",
       "    <tr>\n",
       "      <th>KNN</th>\n",
       "      <td>0.554310</td>\n",
       "      <td>0.233743</td>\n",
       "      <td>0.501618</td>\n",
       "      <td>0.460577</td>\n",
       "      <td>0.551614</td>\n",
       "    </tr>\n",
       "    <tr>\n",
       "      <th>Lasso Logistic Regression</th>\n",
       "      <td>0.652656</td>\n",
       "      <td>0.202651</td>\n",
       "      <td>0.611527</td>\n",
       "      <td>0.642308</td>\n",
       "      <td>0.585130</td>\n",
       "    </tr>\n",
       "    <tr>\n",
       "      <th>Logistic Regression</th>\n",
       "      <td>0.652747</td>\n",
       "      <td>0.202563</td>\n",
       "      <td>0.612335</td>\n",
       "      <td>0.642308</td>\n",
       "      <td>0.586675</td>\n",
       "    </tr>\n",
       "    <tr>\n",
       "      <th>Naive Bayes</th>\n",
       "      <td>0.634761</td>\n",
       "      <td>0.206248</td>\n",
       "      <td>0.502250</td>\n",
       "      <td>0.405769</td>\n",
       "      <td>0.663442</td>\n",
       "    </tr>\n",
       "    <tr>\n",
       "      <th>Random Forest</th>\n",
       "      <td>0.606807</td>\n",
       "      <td>0.201240</td>\n",
       "      <td>0.542994</td>\n",
       "      <td>0.468269</td>\n",
       "      <td>0.647567</td>\n",
       "    </tr>\n",
       "    <tr>\n",
       "      <th>Ridge Logistic Regression</th>\n",
       "      <td>0.652727</td>\n",
       "      <td>0.202572</td>\n",
       "      <td>0.612052</td>\n",
       "      <td>0.642308</td>\n",
       "      <td>0.586140</td>\n",
       "    </tr>\n",
       "  </tbody>\n",
       "</table>\n",
       "</div>"
      ],
      "text/plain": [
       "                                    PR AUC  Brier Score  F1 Score    Recall  \\\n",
       "Model                                                                         \n",
       "Decision Tree                     0.564767     0.272182  0.526757  0.496154   \n",
       "ElasticNet Logistic Regression    0.652682     0.202568  0.612075  0.642308   \n",
       "Focal Loss Logistic Regression 0  0.653441     0.220872  0.604507  0.609615   \n",
       "Gradient Boost                    0.635454     0.197380  0.548274  0.472115   \n",
       "KNN                               0.554310     0.233743  0.501618  0.460577   \n",
       "Lasso Logistic Regression         0.652656     0.202651  0.611527  0.642308   \n",
       "Logistic Regression               0.652747     0.202563  0.612335  0.642308   \n",
       "Naive Bayes                       0.634761     0.206248  0.502250  0.405769   \n",
       "Random Forest                     0.606807     0.201240  0.542994  0.468269   \n",
       "Ridge Logistic Regression         0.652727     0.202572  0.612052  0.642308   \n",
       "\n",
       "                                  Precision  \n",
       "Model                                        \n",
       "Decision Tree                      0.562978  \n",
       "ElasticNet Logistic Regression     0.586144  \n",
       "Focal Loss Logistic Regression 0   0.602261  \n",
       "Gradient Boost                     0.657445  \n",
       "KNN                                0.551614  \n",
       "Lasso Logistic Regression          0.585130  \n",
       "Logistic Regression                0.586675  \n",
       "Naive Bayes                        0.663442  \n",
       "Random Forest                      0.647567  \n",
       "Ridge Logistic Regression          0.586140  "
      ]
     },
     "execution_count": 7,
     "metadata": {},
     "output_type": "execute_result"
    }
   ],
   "source": [
    "avg_df"
   ]
  },
  {
   "cell_type": "code",
   "execution_count": 9,
   "metadata": {},
   "outputs": [
    {
     "data": {
      "text/html": [
       "<div>\n",
       "<style scoped>\n",
       "    .dataframe tbody tr th:only-of-type {\n",
       "        vertical-align: middle;\n",
       "    }\n",
       "\n",
       "    .dataframe tbody tr th {\n",
       "        vertical-align: top;\n",
       "    }\n",
       "\n",
       "    .dataframe thead th {\n",
       "        text-align: right;\n",
       "    }\n",
       "</style>\n",
       "<table border=\"1\" class=\"dataframe\">\n",
       "  <thead>\n",
       "    <tr style=\"text-align: right;\">\n",
       "      <th></th>\n",
       "      <th>PR AUC</th>\n",
       "      <th>Brier Score</th>\n",
       "      <th>F1 Score</th>\n",
       "      <th>Recall</th>\n",
       "      <th>Precision</th>\n",
       "    </tr>\n",
       "    <tr>\n",
       "      <th>Model</th>\n",
       "      <th></th>\n",
       "      <th></th>\n",
       "      <th></th>\n",
       "      <th></th>\n",
       "      <th></th>\n",
       "    </tr>\n",
       "  </thead>\n",
       "  <tbody>\n",
       "    <tr>\n",
       "      <th>Decision Tree</th>\n",
       "      <td>0.028081</td>\n",
       "      <td>0.022507</td>\n",
       "      <td>0.042915</td>\n",
       "      <td>0.053363</td>\n",
       "      <td>0.043687</td>\n",
       "    </tr>\n",
       "    <tr>\n",
       "      <th>ElasticNet Logistic Regression</th>\n",
       "      <td>0.036256</td>\n",
       "      <td>0.007620</td>\n",
       "      <td>0.030845</td>\n",
       "      <td>0.054237</td>\n",
       "      <td>0.022458</td>\n",
       "    </tr>\n",
       "    <tr>\n",
       "      <th>Focal Loss Logistic Regression 0</th>\n",
       "      <td>0.114124</td>\n",
       "      <td>0.020773</td>\n",
       "      <td>0.075458</td>\n",
       "      <td>0.064719</td>\n",
       "      <td>0.087940</td>\n",
       "    </tr>\n",
       "    <tr>\n",
       "      <th>Focal Loss Logistic Regression 1</th>\n",
       "      <td>0.036396</td>\n",
       "      <td>0.001909</td>\n",
       "      <td>0.024215</td>\n",
       "      <td>0.036488</td>\n",
       "      <td>0.021872</td>\n",
       "    </tr>\n",
       "    <tr>\n",
       "      <th>Gradient Boost</th>\n",
       "      <td>0.019670</td>\n",
       "      <td>0.006576</td>\n",
       "      <td>0.034922</td>\n",
       "      <td>0.050347</td>\n",
       "      <td>0.029664</td>\n",
       "    </tr>\n",
       "    <tr>\n",
       "      <th>KNN</th>\n",
       "      <td>0.016945</td>\n",
       "      <td>0.004402</td>\n",
       "      <td>0.030787</td>\n",
       "      <td>0.038075</td>\n",
       "      <td>0.023890</td>\n",
       "    </tr>\n",
       "    <tr>\n",
       "      <th>Lasso Logistic Regression</th>\n",
       "      <td>0.036553</td>\n",
       "      <td>0.007604</td>\n",
       "      <td>0.030911</td>\n",
       "      <td>0.054237</td>\n",
       "      <td>0.022372</td>\n",
       "    </tr>\n",
       "    <tr>\n",
       "      <th>Logistic Regression</th>\n",
       "      <td>0.036370</td>\n",
       "      <td>0.007647</td>\n",
       "      <td>0.031171</td>\n",
       "      <td>0.055613</td>\n",
       "      <td>0.021438</td>\n",
       "    </tr>\n",
       "    <tr>\n",
       "      <th>Naive Bayes</th>\n",
       "      <td>0.038716</td>\n",
       "      <td>0.014638</td>\n",
       "      <td>0.047353</td>\n",
       "      <td>0.050599</td>\n",
       "      <td>0.048968</td>\n",
       "    </tr>\n",
       "    <tr>\n",
       "      <th>Random Forest</th>\n",
       "      <td>0.033319</td>\n",
       "      <td>0.007501</td>\n",
       "      <td>0.028530</td>\n",
       "      <td>0.032878</td>\n",
       "      <td>0.028110</td>\n",
       "    </tr>\n",
       "    <tr>\n",
       "      <th>Ridge Logistic Regression</th>\n",
       "      <td>0.036367</td>\n",
       "      <td>0.007631</td>\n",
       "      <td>0.031171</td>\n",
       "      <td>0.055613</td>\n",
       "      <td>0.021438</td>\n",
       "    </tr>\n",
       "  </tbody>\n",
       "</table>\n",
       "</div>"
      ],
      "text/plain": [
       "                                    PR AUC  Brier Score  F1 Score    Recall  \\\n",
       "Model                                                                         \n",
       "Decision Tree                     0.028081     0.022507  0.042915  0.053363   \n",
       "ElasticNet Logistic Regression    0.036256     0.007620  0.030845  0.054237   \n",
       "Focal Loss Logistic Regression 0  0.114124     0.020773  0.075458  0.064719   \n",
       "Focal Loss Logistic Regression 1  0.036396     0.001909  0.024215  0.036488   \n",
       "Gradient Boost                    0.019670     0.006576  0.034922  0.050347   \n",
       "KNN                               0.016945     0.004402  0.030787  0.038075   \n",
       "Lasso Logistic Regression         0.036553     0.007604  0.030911  0.054237   \n",
       "Logistic Regression               0.036370     0.007647  0.031171  0.055613   \n",
       "Naive Bayes                       0.038716     0.014638  0.047353  0.050599   \n",
       "Random Forest                     0.033319     0.007501  0.028530  0.032878   \n",
       "Ridge Logistic Regression         0.036367     0.007631  0.031171  0.055613   \n",
       "\n",
       "                                  Precision  \n",
       "Model                                        \n",
       "Decision Tree                      0.043687  \n",
       "ElasticNet Logistic Regression     0.022458  \n",
       "Focal Loss Logistic Regression 0   0.087940  \n",
       "Focal Loss Logistic Regression 1   0.021872  \n",
       "Gradient Boost                     0.029664  \n",
       "KNN                                0.023890  \n",
       "Lasso Logistic Regression          0.022372  \n",
       "Logistic Regression                0.021438  \n",
       "Naive Bayes                        0.048968  \n",
       "Random Forest                      0.028110  \n",
       "Ridge Logistic Regression          0.021438  "
      ]
     },
     "execution_count": 9,
     "metadata": {},
     "output_type": "execute_result"
    }
   ],
   "source": [
    "std_df"
   ]
  },
  {
   "cell_type": "code",
   "execution_count": 14,
   "metadata": {},
   "outputs": [],
   "source": [
    "data_dict = {\n",
    "    'x_train' : x_train,\n",
    "    'x_val' : x_val, \n",
    "    'x_test' : x_test, \n",
    "    'y_train' : y_train, \n",
    "    'y_val' : y_val, \n",
    "    'y_test' : y_test \n",
    "}"
   ]
  },
  {
   "cell_type": "code",
   "execution_count": 15,
   "metadata": {},
   "outputs": [
    {
     "name": "stdout",
     "output_type": "stream",
     "text": [
      "Model training for <tensorflow.python.keras.engine.sequential.Sequential object at 0x7fe134f8ecc0> was successful\n",
      "\n"
     ]
    },
    {
     "data": {
      "text/plain": [
       "<tensorflow.python.keras.callbacks.History at 0x7fe13be97940>"
      ]
     },
     "execution_count": 15,
     "metadata": {},
     "output_type": "execute_result"
    }
   ],
   "source": [
    "fit = fit_model()\n",
    "fit.train_model(model= model_dict['Focal Loss Logistic Regression 5'], data_dict= data_dict)"
   ]
  },
  {
   "cell_type": "code",
   "execution_count": 19,
   "metadata": {},
   "outputs": [],
   "source": [
    "pred, pred_prob  = fit.test_model(trained_model = model_dict['Focal Loss Logistic Regression 5'], x_test = data_dict['x_test'])"
   ]
  },
  {
   "cell_type": "code",
   "execution_count": 20,
   "metadata": {},
   "outputs": [
    {
     "data": {
      "text/plain": [
       "(0.6757396449704142,\n",
       " 0.7735317284497611,\n",
       " 0.6989617275374669,\n",
       " 0.23088911068358897,\n",
       " 0.6194444444444444,\n",
       " 0.7533783783783784,\n",
       " 0.5259433962264151,\n",
       " 348,\n",
       " 73,\n",
       " 223,\n",
       " 201)"
      ]
     },
     "execution_count": 20,
     "metadata": {},
     "output_type": "execute_result"
    }
   ],
   "source": [
    "mod_metrics = model_metrics()\n",
    "mod_metrics.classification_metrics(y_actual = data_dict['y_test'], y_pred = pred, y_prob = pred_prob)"
   ]
  }
 ],
 "metadata": {
  "interpreter": {
   "hash": "f6b45e719c84b200046966c3708700940d97a61a0c207e9c54ed28f35ebb1a47"
  },
  "kernelspec": {
   "display_name": "Python 3.6.10 ('base')",
   "language": "python",
   "name": "python3"
  },
  "language_info": {
   "codemirror_mode": {
    "name": "ipython",
    "version": 3
   },
   "file_extension": ".py",
   "mimetype": "text/x-python",
   "name": "python",
   "nbconvert_exporter": "python",
   "pygments_lexer": "ipython3",
   "version": "3.6.10"
  },
  "orig_nbformat": 4
 },
 "nbformat": 4,
 "nbformat_minor": 2
}
